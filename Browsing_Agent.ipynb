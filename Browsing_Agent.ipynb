{
  "nbformat": 4,
  "nbformat_minor": 0,
  "metadata": {
    "colab": {
      "provenance": [],
      "authorship_tag": "ABX9TyOfbJ3jG/l2MQMsd/uO+1+d",
      "include_colab_link": true
    },
    "kernelspec": {
      "name": "python3",
      "display_name": "Python 3"
    },
    "language_info": {
      "name": "python"
    }
  },
  "cells": [
    {
      "cell_type": "markdown",
      "metadata": {
        "id": "view-in-github",
        "colab_type": "text"
      },
      "source": [
        "<a href=\"https://colab.research.google.com/github/Syed-Raza-Ali/Browsing_AI_Agent/blob/main/Browsing_Agent.ipynb\" target=\"_parent\"><img src=\"https://colab.research.google.com/assets/colab-badge.svg\" alt=\"Open In Colab\"/></a>"
      ]
    },
    {
      "cell_type": "markdown",
      "source": [
        "##**Tavily-Enhanced Real-Time Browsing Agent**\n",
        "\n",
        "- **A dynamic browsing agent leveraging LangGraph and the Tavily real-time search API to provide instant, accurate responses to user queries. Powered by the Gemini-1.5-Flash LLM and integrated tools, the agent retrieves, processes, and delivers relevant information in a user-friendly format. Designed for seamless and efficient communication, this agent ensures users get the insights they need without technical jargon or raw data, making it ideal for real-time information access.**"
      ],
      "metadata": {
        "id": "Q31bTLQ42v_b"
      }
    },
    {
      "cell_type": "code",
      "source": [
        "# install the required packages\n",
        "%%capture --no-stderr\n",
        "%pip install -U tavily-python langchain_community"
      ],
      "metadata": {
        "id": "_d3SOJXbmnJL"
      },
      "execution_count": 15,
      "outputs": []
    },
    {
      "cell_type": "code",
      "source": [
        "# API KEYS VARIABLES\n",
        "import os\n",
        "from google.colab import userdata\n",
        "\n",
        "os.environ[\"TAVILY_API_KEY\"] = userdata.get(\"TAVILY_API_KEY\")\n",
        "# GOOGLE_API_KEY = userdata.get(\"GEMINI_API_KEY\")\n"
      ],
      "metadata": {
        "id": "8_3VvoTlzygI"
      },
      "execution_count": 16,
      "outputs": []
    },
    {
      "cell_type": "code",
      "execution_count": 19,
      "metadata": {
        "id": "IFgah5czmhKE",
        "collapsed": true,
        "colab": {
          "base_uri": "https://localhost:8080/"
        },
        "outputId": "36fce326-e272-4a08-a3aa-0e787ffecf8f"
      },
      "outputs": [
        {
          "output_type": "stream",
          "name": "stdout",
          "text": [
            "Hello there! I am an browsing agent. Please give me a prompt, and I will bring you the answer by searching on Google\n",
            "Type 'exit' , 'quit' , 'q' , 'bye' for ending\n",
            "\n",
            "\n",
            "User : who is the prime minister of Pak in 2024\n",
            "Processing graph updates for: who is the prime minister of Pak in 2024\n",
            "Search Results:\n",
            "\n",
            "Result 1:\n",
            "Here is the 1 documentaion from web search you can get your answer from here:\n",
            "Documentation: In this photo released by the Pakistan’s President Office, President Arif Alvi, right, administers the oath of office to newly elected Prime Minister Shehbaz Sharif during a ceremony at the Presidential Palace, in Islamabad, Pakistan, Monday, March 4, 2024. In this photo released by the Pakistan’s President Office, President Arif Alvi, right, administers the oath of office to newly elected Prime Minister Shehbaz Sharif during a ceremony at the Presidential Palace, in Islamabad, Pakistan, Monday, March 4, 2024. In this photo released by the Pakistan’s President Office, President Arif Alvi, right, administers the oath of office to newly elected Prime Minister Shehbaz Sharif during a ceremony at the Presidential Palace, in Islamabad, Pakistan, Monday, March 4, 2024. In this photo released by the Pakistan’s President Office, President Arif Alvi, right, administers the oath of office to newly elected Prime Minister Shehbaz Sharif during a ceremony at the Presidential Palace, in Islamabad, Pakistan, Monday, March 4, 2024. Lawmakers in Pakistan’s National Assembly have elected Sharif for a comeback term as the country’s prime minister, as allies of imprisoned former premier Imran Khan in parliament shouted in protest, alleging rigging in last month’s election.\n",
            "URL: https://apnews.com/article/pakistan-prime-minister-shebaz-sharif-swearing-3d84e6f5ba749bd177ff873d3f6fe8d4\n",
            "\n",
            "Result 2:\n",
            "Here is the 2 documentaion from web search you can get your answer from here:\n",
            "Documentation: In this photo released by the Pakistan's President Office, President Asif Ali Zardari, center left, administers the oath from federal ministers as Prime Minister Shehbaz Sharif, center right, watches during a ceremony at the Presidential Palace, in Islamabad, Pakistan, Monday, March 11, 2024. The 19-member Cabinet of Pakistan's newly\n",
            "URL: https://apnews.com/article/pakistan-new-government-cabinet-sworn-44eef2840d8636361a2a05167cd83579\n",
            "\n",
            "Result 3:\n",
            "Here is the 3 documentaion from web search you can get your answer from here:\n",
            "Documentation: 'King of Chaos' Imran Khan keeps winning even behind bars\n",
            "What now in Pakistan after Khan vote surprise?\n",
            "Pakistan accused of killings in Afghan air strikes\n",
            "Pakistan country profile\n",
            "Pakistan man sentenced to death for Whatsapp messages\n",
            "Copyright 2024 BBC. Following last month's election, the Pakistan Muslim League Nawaz (PML-N) - headed by Nawaz Sharif, a former prime minister who is Shehbaz Sharif's brother - reached a coalition deal with the Pakistan People's Party (PPP).\n",
            " Shehbaz Sharif wins second term as prime minister\n",
            "Pakistan's newly formed parliament has elected Shehbaz Sharif as prime minister for a second term.\n",
            " In his victory speech, Mr Sharif said that as no side had a clear parliamentary majority, it was \"the democratic way\" that \"like-minded parties may form a coalition government\".\n",
            " In 2022 the two parties, which have traditionally been rivals, joined forces to oust Imran Khan as prime minister and install Mr Sharif as his successor.\n",
            "\n",
            "URL: https://www.bbc.com/news/world-asia-68462846\n",
            "\n",
            "Chat History:\n",
            "User: who is the prime minister of Pak in 2024\n",
            "Assistant: [{'url': 'https://apnews.com/article/pakistan-prime-minister-shebaz-sharif-swearing-3d84e6f5ba749bd177ff873d3f6fe8d4', 'content': 'In this photo released by the Pakistan’s President Office, President Arif Alvi, right, administers the oath of office to newly elected Prime Minister Shehbaz Sharif during a ceremony at the Presidential Palace, in Islamabad, Pakistan, Monday, March 4, 2024. In this photo released by the Pakistan’s President Office, President Arif Alvi, right, administers the oath of office to newly elected Prime Minister Shehbaz Sharif during a ceremony at the Presidential Palace, in Islamabad, Pakistan, Monday, March 4, 2024. In this photo released by the Pakistan’s President Office, President Arif Alvi, right, administers the oath of office to newly elected Prime Minister Shehbaz Sharif during a ceremony at the Presidential Palace, in Islamabad, Pakistan, Monday, March 4, 2024. In this photo released by the Pakistan’s President Office, President Arif Alvi, right, administers the oath of office to newly elected Prime Minister Shehbaz Sharif during a ceremony at the Presidential Palace, in Islamabad, Pakistan, Monday, March 4, 2024. Lawmakers in Pakistan’s National Assembly have elected Sharif for a comeback term as the country’s prime minister, as allies of imprisoned former premier Imran Khan in parliament shouted in protest, alleging rigging in last month’s election.'}, {'url': 'https://apnews.com/article/pakistan-new-government-cabinet-sworn-44eef2840d8636361a2a05167cd83579', 'content': \"In this photo released by the Pakistan's President Office, President Asif Ali Zardari, center left, administers the oath from federal ministers as Prime Minister Shehbaz Sharif, center right, watches during a ceremony at the Presidential Palace, in Islamabad, Pakistan, Monday, March 11, 2024. The 19-member Cabinet of Pakistan's newly\"}, {'url': 'https://www.bbc.com/news/world-asia-68462846', 'content': '\\'King of Chaos\\' Imran Khan keeps winning even behind bars\\nWhat now in Pakistan after Khan vote surprise?\\nPakistan accused of killings in Afghan air strikes\\nPakistan country profile\\nPakistan man sentenced to death for Whatsapp messages\\nCopyright 2024 BBC. Following last month\\'s election, the Pakistan Muslim League Nawaz (PML-N) - headed by Nawaz Sharif, a former prime minister who is Shehbaz Sharif\\'s brother - reached a coalition deal with the Pakistan People\\'s Party (PPP).\\n Shehbaz Sharif wins second term as prime minister\\nPakistan\\'s newly formed parliament has elected Shehbaz Sharif as prime minister for a second term.\\n In his victory speech, Mr Sharif said that as no side had a clear parliamentary majority, it was \"the democratic way\" that \"like-minded parties may form a coalition government\".\\n In 2022 the two parties, which have traditionally been rivals, joined forces to oust Imran Khan as prime minister and install Mr Sharif as his successor.\\n'}]\n",
            "\n",
            "\n",
            "User : q\n",
            "Bye! Have a great day!\n"
          ]
        }
      ],
      "source": [
        "from langchain_community.tools.tavily_search import TavilySearchResults\n",
        "\n",
        "\n",
        "# Initialize Tavily search tool\n",
        "tavily_search = TavilySearchResults(max_results = 3)\n",
        "\n",
        "# Maintain chat history\n",
        "chat_history = []\n",
        "\n",
        "def stream_graph_updates(user_input):\n",
        "    \"\"\"A placeholder function for processing graph updates.\"\"\"\n",
        "    print(f\"Processing graph updates for: {user_input}\")\n",
        "\n",
        "\n",
        "print(\"Hello there! I am an browsing agent. Please give me a prompt, and I will bring you the answer by searching on Google\")\n",
        "print(\"Type 'exit' , 'quit' , 'q' , 'bye' for ending\")\n",
        "\n",
        "\n",
        "def main():\n",
        "  \"\"\" Get realtime information using tavily search \"\"\"\n",
        "\n",
        "  while True:\n",
        "\n",
        "\n",
        "    try:\n",
        "        # Prompt the user for input\n",
        "        print(\"\\n\")\n",
        "        user_input = input(\"User : \").strip()\n",
        "\n",
        "        # Exit condition\n",
        "        if user_input.lower() in [\"quit\", \"exit\", \"q\",\"bye\"]:\n",
        "            print(\"Bye! Have a great day!\")\n",
        "            break\n",
        "\n",
        "        # Handle empty input\n",
        "        if not user_input:\n",
        "            print(\"No prompt found. Please type something.\")\n",
        "            continue\n",
        "\n",
        "        # Add user input to chat history\n",
        "        chat_history.append({\"role\": \"user\", \"content\": user_input})\n",
        "\n",
        "        # Call the placeholder function (replace as needed)\n",
        "        try:\n",
        "            stream_graph_updates(user_input)\n",
        "        except NameError:\n",
        "            # Handle missing function gracefully\n",
        "            print(\"stream_graph_updates is not implemented. Skipping.\")\n",
        "\n",
        "        # Perform a Tavily search if the function is not implemented\n",
        "        search_docs = tavily_search.invoke(user_input)\n",
        "\n",
        "        # Add Tavily response to chat history\n",
        "        chat_history.append({\"role\": \"assistant\", \"content\": str(search_docs)})\n",
        "\n",
        "        # Display results from Tavily search\n",
        "        print(\"Search Results:\")\n",
        "        for i, doc in enumerate(search_docs, start=1):\n",
        "            print(f\"\\nResult {i}:\")\n",
        "            print(f\"Here is the {i} documentaion from web search you can get your answer from here:\")\n",
        "            print(f\"Documentation: {doc.get('content', 'N/A')}\")\n",
        "            print(f\"URL: {doc.get('url', 'N/A')}\")\n",
        "\n",
        "    except Exception as e:\n",
        "        print(f\"An error occurred: {e}\")\n",
        "        break\n",
        "\n",
        "    print(\"\\nChat History:\")\n",
        "    for message in chat_history:\n",
        "      role = message[\"role\"]\n",
        "      content = message[\"content\"]\n",
        "      print(f\"{role.capitalize()}: {content}\")\n",
        "\n",
        "\n",
        "\n",
        "main()"
      ]
    }
  ]
}