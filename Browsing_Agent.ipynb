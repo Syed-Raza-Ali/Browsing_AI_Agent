{
  "nbformat": 4,
  "nbformat_minor": 0,
  "metadata": {
    "colab": {
      "provenance": [],
      "authorship_tag": "ABX9TyOlgzu5XHEfuj99fJFrP+0P",
      "include_colab_link": true
    },
    "kernelspec": {
      "name": "python3",
      "display_name": "Python 3"
    },
    "language_info": {
      "name": "python"
    }
  },
  "cells": [
    {
      "cell_type": "markdown",
      "metadata": {
        "id": "view-in-github",
        "colab_type": "text"
      },
      "source": [
        "<a href=\"https://colab.research.google.com/github/Syed-Raza-Ali/Browsing_AI_Agent/blob/main/Browsing_Agent.ipynb\" target=\"_parent\"><img src=\"https://colab.research.google.com/assets/colab-badge.svg\" alt=\"Open In Colab\"/></a>"
      ]
    },
    {
      "cell_type": "markdown",
      "source": [
        "##**Tavily-Enhanced Real-Time Browsing Agent**\n",
        "\n",
        "- **A dynamic browsing agent leveraging LangGraph and the Tavily real-time search API to provide instant, accurate responses to user queries. Powered by the Gemini-1.5-Flash LLM and integrated tools, the agent retrieves, processes, and delivers relevant information in a user-friendly format. Designed for seamless and efficient communication, this agent ensures users get the insights they need without technical jargon or raw data, making it ideal for real-time information access.**"
      ],
      "metadata": {
        "id": "Q31bTLQ42v_b"
      }
    },
    {
      "cell_type": "code",
      "source": [
        "# install the required packages\n",
        "%%capture --no-stderr\n",
        "%pip install -U tavily-python langchain_community"
      ],
      "metadata": {
        "id": "_d3SOJXbmnJL"
      },
      "execution_count": null,
      "outputs": []
    },
    {
      "cell_type": "code",
      "source": [
        "# API KEYS VARIABLES\n",
        "import os\n",
        "from google.colab import userdata\n",
        "\n",
        "os.environ[\"TAVILY_API_KEY\"] = userdata.get(\"TAVILY_API_KEY\")\n",
        "# GOOGLE_API_KEY = userdata.get(\"GEMINI_API_KEY\")\n"
      ],
      "metadata": {
        "id": "8_3VvoTlzygI"
      },
      "execution_count": null,
      "outputs": []
    },
    {
      "cell_type": "code",
      "execution_count": null,
      "metadata": {
        "id": "IFgah5czmhKE",
        "collapsed": true,
        "colab": {
          "base_uri": "https://localhost:8080/"
        },
        "outputId": "ef64f137-da93-4fd2-e323-a8e651759fee"
      },
      "outputs": [
        {
          "output_type": "stream",
          "name": "stdout",
          "text": [
            "Hello there! I am an browsing agent. Please give me a prompt, and I will bring you the answer by searching on Google\n",
            "Type 'exit' , 'quit' , 'q' , 'bye' for ending\n",
            "\n",
            "\n",
            "User : who is the prime minister of Pakistan in 2024\n",
            "Processing graph updates for: who is the prime minister of Pakistan in 2024\n",
            "Search Results:\n",
            "\n",
            "Result 1:\n",
            "Here is the 1 documentaion from web search you can get your answer from here:\n",
            "Documentation: Pakistan Elects Shehbaz Sharif as New Prime Minister Africa The Americas East Asia Europe Middle East South & Central Asia Pakistan Elects Shehbaz Sharif as New Prime Minister This handout photograph taken and released on March 3, 2024 by the Pakistan National Assembly, shows Pakistan's newly-elected Prime Minister Shehbaz Sharif (2R) addresses the Parliament in Islamabad. ISLAMABAD — Pakistan’s newly elected National Assembly chose Shehbaz Sharif as the country’s new prime minister Sunday following a February general election that was marred by widespread rigging allegations. The declaration was met with loud protests from lawmakers, loyal to Khan, who persisted in alleging that the February 8 national elections were heavily rigged to support pro-military parties, including Sharif’s Pakistan Muslim League-Nawaz, or PML-N.\n",
            "URL: https://www.voanews.com/a/lawmakers-elect-shehbaz-sharif-as-pakistan-s-new-premier-/7511722.html\n",
            "\n",
            "Result 2:\n",
            "Here is the 2 documentaion from web search you can get your answer from here:\n",
            "Documentation: In this photo released by the Pakistan’s President Office, President Arif Alvi, right, administers the oath of office to newly elected Prime Minister Shehbaz Sharif during a ceremony at the Presidential Palace, in Islamabad, Pakistan, Monday, March 4, 2024. In this photo released by the Pakistan’s President Office, President Arif Alvi, right, administers the oath of office to newly elected Prime Minister Shehbaz Sharif during a ceremony at the Presidential Palace, in Islamabad, Pakistan, Monday, March 4, 2024. In this photo released by the Pakistan’s President Office, President Arif Alvi, right, administers the oath of office to newly elected Prime Minister Shehbaz Sharif during a ceremony at the Presidential Palace, in Islamabad, Pakistan, Monday, March 4, 2024. In this photo released by the Pakistan’s President Office, President Arif Alvi, right, administers the oath of office to newly elected Prime Minister Shehbaz Sharif during a ceremony at the Presidential Palace, in Islamabad, Pakistan, Monday, March 4, 2024. Lawmakers in Pakistan’s National Assembly have elected Sharif for a comeback term as the country’s prime minister, as allies of imprisoned former premier Imran Khan in parliament shouted in protest, alleging rigging in last month’s election.\n",
            "URL: https://apnews.com/article/pakistan-prime-minister-shebaz-sharif-swearing-3d84e6f5ba749bd177ff873d3f6fe8d4\n",
            "\n",
            "Result 3:\n",
            "Here is the 3 documentaion from web search you can get your answer from here:\n",
            "Documentation: March 3, 2024 8:06 PM UTC Updated ago KARACHI, March 3 (Reuters) - Pakistan's newly formed parliament elected Shehbaz Sharif on Sunday as prime minister for a second time, three weeks after\n",
            "URL: https://www.reuters.com/world/asia-pacific/pakistans-shehbaz-sharif-set-take-oath-prime-minister-second-term-2024-03-03/\n",
            "\n",
            "\n",
            "User : q\n",
            "Bye! Have a great day!\n"
          ]
        }
      ],
      "source": [
        "from langchain_community.tools.tavily_search import TavilySearchResults\n",
        "\n",
        "\n",
        "# Initialize Tavily search tool\n",
        "tavily_search = TavilySearchResults(max_results = 3)\n",
        "\n",
        "# Maintain chat history\n",
        "chat_history = []\n",
        "\n",
        "def stream_graph_updates(user_input):\n",
        "    \"\"\"A placeholder function for processing graph updates.\"\"\"\n",
        "    print(f\"Processing graph updates for: {user_input}\")\n",
        "\n",
        "\n",
        "print(\"Hello there! I am an browsing agent. Please give me a prompt, and I will bring you the answer by searching on Google\")\n",
        "print(\"Type 'exit' , 'quit' , 'q' , 'bye' for ending\")\n",
        "\n",
        "\n",
        "def main():\n",
        "  \"\"\" Get realtime information using tavily search \"\"\"\n",
        "\n",
        "  while True:\n",
        "\n",
        "\n",
        "    try:\n",
        "        # Prompt the user for input\n",
        "        print(\"\\n\")\n",
        "        user_input = input(\"User : \").strip()\n",
        "\n",
        "        # Exit condition\n",
        "        if user_input.lower() in [\"quit\", \"exit\", \"q\",\"bye\"]:\n",
        "            print(\"Bye! Have a great day!\")\n",
        "            break\n",
        "\n",
        "        # Handle empty input\n",
        "        if not user_input:\n",
        "            print(\"No prompt found. Please type something.\")\n",
        "            continue\n",
        "\n",
        "        # Add user input to chat history\n",
        "        chat_history.append({\"role\": \"user\", \"content\": user_input})\n",
        "\n",
        "        # Call the placeholder function (replace as needed)\n",
        "        try:\n",
        "            stream_graph_updates(user_input)\n",
        "        except NameError:\n",
        "            # Handle missing function gracefully\n",
        "            print(\"stream_graph_updates is not implemented. Skipping.\")\n",
        "\n",
        "        # Perform a Tavily search if the function is not implemented\n",
        "        search_docs = tavily_search.invoke(user_input)\n",
        "\n",
        "        # Add Tavily response to chat history\n",
        "        chat_history.append({\"role\": \"assistant\", \"content\": str(search_docs)})\n",
        "\n",
        "        # Display results from Tavily search\n",
        "        print(\"Search Results:\")\n",
        "        for i, doc in enumerate(search_docs, start=1):\n",
        "            print(f\"\\nResult {i}:\")\n",
        "            print(f\"Here is the {i} documentaion from web search you can get your answer from here:\")\n",
        "            print(f\"Documentation: {doc.get('content', 'N/A')}\")\n",
        "            print(f\"URL: {doc.get('url', 'N/A')}\")\n",
        "\n",
        "    except Exception as e:\n",
        "        print(f\"An error occurred: {e}\")\n",
        "        break\n",
        "\n",
        "    # print(\"\\nChat History:\")\n",
        "    # for message in chat_history:\n",
        "    #   role = message[\"role\"]\n",
        "    #   content = message[\"content\"]\n",
        "    #   print(f\"{role.capitalize()}: {content}\")\n",
        "\n",
        "\n",
        "\n",
        "main()"
      ]
    }
  ]
}