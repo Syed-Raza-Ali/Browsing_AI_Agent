{
  "nbformat": 4,
  "nbformat_minor": 0,
  "metadata": {
    "colab": {
      "provenance": [],
      "authorship_tag": "ABX9TyOleqRbvkNvHxGvm4EKwU2g",
      "include_colab_link": true
    },
    "kernelspec": {
      "name": "python3",
      "display_name": "Python 3"
    },
    "language_info": {
      "name": "python"
    }
  },
  "cells": [
    {
      "cell_type": "markdown",
      "metadata": {
        "id": "view-in-github",
        "colab_type": "text"
      },
      "source": [
        "<a href=\"https://colab.research.google.com/github/Syed-Raza-Ali/Browsing_AI_Agent/blob/main/Browsing_Agent.ipynb\" target=\"_parent\"><img src=\"https://colab.research.google.com/assets/colab-badge.svg\" alt=\"Open In Colab\"/></a>"
      ]
    },
    {
      "cell_type": "code",
      "source": [
        "# install the required packages\n",
        "%%capture --no-stderr\n",
        "%pip install -U tavily-python langchain_core langchain_google_genai tavily-python langchain_community langgraph"
      ],
      "metadata": {
        "id": "_d3SOJXbmnJL"
      },
      "execution_count": 1,
      "outputs": []
    },
    {
      "cell_type": "code",
      "source": [
        "# API KEYS VARIABLES\n",
        "import os\n",
        "from google.colab import userdata\n",
        "\n",
        "os.environ[\"TAVILY_API_KEY\"] = userdata.get(\"TAVILY_API_KEY\")\n"
      ],
      "metadata": {
        "id": "8_3VvoTlzygI"
      },
      "execution_count": 2,
      "outputs": []
    },
    {
      "cell_type": "code",
      "execution_count": 12,
      "metadata": {
        "id": "IFgah5czmhKE",
        "colab": {
          "base_uri": "https://localhost:8080/"
        },
        "outputId": "64252ae6-5e75-48df-bdc6-4f0bf10c5c3a"
      },
      "outputs": [
        {
          "output_type": "stream",
          "name": "stdout",
          "text": [
            "Hello there! I am an browsing AI agent. Please give me a prompt, and I will bring you the answer by searching on Google\n",
            "Type 'exit' , 'quit' , 'q' , 'bye' for ending\n",
            "\n",
            "\n",
            "User : what is the situation of covid 19 in 2024\n",
            "Processing graph updates for: what is the situation of covid 19 in 2024\n",
            "Search Results:\n",
            "\n",
            "Result 1:\n",
            "Here is the 1 documentaion from web search you can get your answer from here:\n",
            "Documentation: This is a special edition of the epidemiological update on COVID-19 that gives an overview of the situation since the disease was first reported to WHO nearly five years ago. From the start of the pandemic until November 10, 2024, over 776.8 million confirmed COVID-19 cases and over 7 million confirmed deaths were notified to WHO across 234 countries. For the latest 4 week reporting period, from 14 October to 10 November 2024, 77 countries reported COVID-19 cases and 27 deaths globally. Post-COVID-19 condition (PCC), called \"long COVID\" by some, continues to pose a significant burden on health systems, with an estimated 6% of symptomatic SARS-CoV-2 infections resulting in PCC symptoms. All COVID-19 Epidemiological and Operational Updates\n",
            "URL: https://www.who.int/publications/m/item/covid-19-epidemiological-update---24-december-2024\n",
            "\n",
            "Result 2:\n",
            "Here is the 2 documentaion from web search you can get your answer from here:\n",
            "Documentation: Weekly updated estimates of COVID-19-related symptomatic illnesses, outpatient visits, hospitalizations, and deaths in the United States, starting October 1, 2024, help us understand how COVID-19 is impacting people’s health. These burden estimates are preliminary and based on weekly hospitalizations reported among persons with laboratory-confirmed infections of severe acute respiratory syndrome coronavirus 2 (SARS-CoV-2), the virus that causes COVID-19. Why CDC estimates the burden of COVID-19 Find more details on how COVID-NET data are used to estimate illnesses, outpatient visits, hospitalizations, and deaths in the United States: How CDC Estimates the Burden of COVID-19 in the US. The cumulative estimates of COVID-19 burden are preliminary and change week-by-week as updated COVID-19 hospitalization data are reported to CDC via COVID-NET. Why CDC estimates the burden of COVID-19\n",
            "URL: https://www.cdc.gov/covid/php/surveillance/burden-estimates.html\n",
            "\n",
            "Result 3:\n",
            "Here is the 3 documentaion from web search you can get your answer from here:\n",
            "Documentation: During the four-week reporting period from 19 August to 15 September 2024, weekly SARS-CoV-2 PCR percent test positivity decreased from 8.2% in the beginning week of the reporting period to 5.8% in the last week, as detected in integrated sentinel surveillance within the Global Influenza Surveillance and Response System (GISRS). Globally, JN.1 is the most reported variant of interest (VOI), now reported by 140 countries, accounting for 16.0% of sequences in week 37, having declined from a prevalence of 19.4% in week 34. Globally, during the 28-day period (19 August to 15 September 2024), the number of new cases and deaths increased by 10% and 11% compared to the previous 28-day period (22 July to 18 August 2024), with 270 000 new cases reported across 89 (38%) countries and about 5700 new fatalities reported across 31 (13%) countries, respectively.\n",
            "URL: https://www.who.int/publications/m/item/covid-19-epidemiological-update-edition-172\n",
            "\n",
            "\n",
            "User : q\n",
            "Bye! Have a great day!\n",
            "\n",
            "Chat History:\n",
            "User: what is the situation of covid 19 in 2024\n",
            "Assistant: [{'url': 'https://www.who.int/publications/m/item/covid-19-epidemiological-update---24-december-2024', 'content': 'This is a special edition of the epidemiological update on COVID-19 that gives an overview of the situation since the disease was first reported to WHO nearly five years ago. From the start of the pandemic until November 10, 2024, over 776.8 million confirmed COVID-19 cases and over 7 million confirmed deaths were notified to WHO across 234 countries. For the latest 4 week reporting period, from 14 October to 10 November 2024, 77 countries reported COVID-19 cases and 27 deaths globally. Post-COVID-19 condition (PCC), called \"long COVID\" by some, continues to pose a significant burden on health systems, with an estimated 6% of symptomatic SARS-CoV-2 infections resulting in PCC symptoms. All COVID-19 Epidemiological and Operational Updates'}, {'url': 'https://www.cdc.gov/covid/php/surveillance/burden-estimates.html', 'content': 'Weekly updated estimates of COVID-19-related symptomatic illnesses, outpatient visits, hospitalizations, and deaths in the United States, starting October 1, 2024, help us understand how COVID-19 is impacting people’s health. These burden estimates are preliminary and based on weekly hospitalizations reported among persons with laboratory-confirmed infections of severe acute respiratory syndrome coronavirus 2 (SARS-CoV-2), the virus that causes COVID-19. Why CDC estimates the burden of COVID-19 Find more details on how COVID-NET data are used to estimate illnesses, outpatient visits, hospitalizations, and deaths in the United States: How CDC Estimates the Burden of COVID-19 in the US. The cumulative estimates of COVID-19 burden are preliminary and change week-by-week as updated COVID-19 hospitalization data are reported to CDC via COVID-NET. Why CDC estimates the burden of COVID-19'}, {'url': 'https://www.who.int/publications/m/item/covid-19-epidemiological-update-edition-172', 'content': 'During the four-week reporting period from 19 August to 15 September 2024, weekly SARS-CoV-2 PCR percent test positivity decreased from 8.2% in the beginning week of the reporting period to 5.8% in the last week, as detected in integrated sentinel surveillance within the Global Influenza Surveillance and Response System (GISRS). Globally, JN.1 is the most reported variant of interest (VOI), now reported by 140 countries, accounting for 16.0% of sequences in week 37, having declined from a prevalence of 19.4% in week 34. Globally, during the 28-day period (19 August to 15 September 2024), the number of new cases and deaths increased by 10% and 11% compared to the previous 28-day period (22 July to 18 August 2024), with 270 000 new cases reported across 89 (38%) countries and about 5700 new fatalities reported across 31 (13%) countries, respectively.'}]\n"
          ]
        }
      ],
      "source": [
        "from langchain_community.tools.tavily_search import TavilySearchResults\n",
        "\n",
        "\n",
        "# Initialize Tavily search tool\n",
        "tavily_search = TavilySearchResults(max_results = 3)\n",
        "\n",
        "# Maintain chat history\n",
        "chat_history = []\n",
        "\n",
        "def stream_graph_updates(user_input):\n",
        "    \"\"\"A placeholder function for processing graph updates.\"\"\"\n",
        "    print(f\"Processing graph updates for: {user_input}\")\n",
        "\n",
        "\n",
        "print(\"Hello there! I am an browsing AI agent. Please give me a prompt, and I will bring you the answer by searching on Google\")\n",
        "print(\"Type 'exit' , 'quit' , 'q' , 'bye' for ending\")\n",
        "\n",
        "# Main chatbot loop\n",
        "while True:\n",
        "\n",
        "\n",
        "    try:\n",
        "        # Prompt the user for input\n",
        "        print(\"\\n\")\n",
        "        user_input = input(\"User : \").strip()\n",
        "\n",
        "        # Exit condition\n",
        "        if user_input.lower() in [\"quit\", \"exit\", \"q\",\"bye\"]:\n",
        "            print(\"Bye! Have a great day!\")\n",
        "            break\n",
        "\n",
        "        # Handle empty input\n",
        "        if not user_input:\n",
        "            print(\"No prompt found. Please type something.\")\n",
        "            continue\n",
        "\n",
        "        # Add user input to chat history\n",
        "        chat_history.append({\"role\": \"user\", \"content\": user_input})\n",
        "\n",
        "        # Call the placeholder function (replace as needed)\n",
        "        try:\n",
        "            stream_graph_updates(user_input)\n",
        "        except NameError:\n",
        "            # Handle missing function gracefully\n",
        "            print(\"stream_graph_updates is not implemented. Skipping.\")\n",
        "\n",
        "        # Perform a Tavily search if the function is not implemented\n",
        "        search_docs = tavily_search.invoke(user_input)\n",
        "\n",
        "        # Add Tavily response to chat history\n",
        "        chat_history.append({\"role\": \"assistant\", \"content\": str(search_docs)})\n",
        "\n",
        "        # Display results from Tavily search\n",
        "        print(\"Search Results:\")\n",
        "        for i, doc in enumerate(search_docs, start=1):\n",
        "            print(f\"\\nResult {i}:\")\n",
        "            print(f\"Here is the {i} documentaion from web search you can get your answer from here:\")\n",
        "            print(f\"Documentation: {doc.get('content', 'N/A')}\")\n",
        "            print(f\"URL: {doc.get('url', 'N/A')}\")\n",
        "\n",
        "    except Exception as e:\n",
        "        print(f\"An error occurred: {e}\")\n",
        "        break\n",
        "\n",
        "# Print chat history at the end of the session\n",
        "print(\"\\nChat History:\")\n",
        "for message in chat_history:\n",
        "    role = message[\"role\"]\n",
        "    content = message[\"content\"]\n",
        "    print(f\"{role.capitalize()}: {content}\")\n"
      ]
    },
    {
      "cell_type": "code",
      "source": [],
      "metadata": {
        "id": "49TNGMjdZk5g"
      },
      "execution_count": null,
      "outputs": []
    }
  ]
}