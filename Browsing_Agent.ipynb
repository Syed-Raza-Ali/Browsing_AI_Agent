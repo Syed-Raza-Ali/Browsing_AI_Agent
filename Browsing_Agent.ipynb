{
  "nbformat": 4,
  "nbformat_minor": 0,
  "metadata": {
    "colab": {
      "provenance": [],
      "authorship_tag": "ABX9TyPwyKYSvCXZ6QU1BnFplMXT",
      "include_colab_link": true
    },
    "kernelspec": {
      "name": "python3",
      "display_name": "Python 3"
    },
    "language_info": {
      "name": "python"
    }
  },
  "cells": [
    {
      "cell_type": "markdown",
      "metadata": {
        "id": "view-in-github",
        "colab_type": "text"
      },
      "source": [
        "<a href=\"https://colab.research.google.com/github/Syed-Raza-Ali/Browsing_AI_Agent/blob/main/Browsing_Agent.ipynb\" target=\"_parent\"><img src=\"https://colab.research.google.com/assets/colab-badge.svg\" alt=\"Open In Colab\"/></a>"
      ]
    },
    {
      "cell_type": "code",
      "source": [
        "# install the required packages\n",
        "%%capture --no-stderr\n",
        "%pip install -U tavily-python langchain_core langchain_google_genai tavily-python langchain_community langgraph"
      ],
      "metadata": {
        "id": "_d3SOJXbmnJL"
      },
      "execution_count": 1,
      "outputs": []
    },
    {
      "cell_type": "code",
      "source": [
        "# API KEYS VARIABLES\n",
        "import os\n",
        "from google.colab import userdata\n",
        "\n",
        "os.environ[\"TAVILY_API_KEY\"] = userdata.get(\"TAVILY_API_KEY\")\n"
      ],
      "metadata": {
        "id": "8_3VvoTlzygI"
      },
      "execution_count": 2,
      "outputs": []
    },
    {
      "cell_type": "code",
      "execution_count": null,
      "metadata": {
        "id": "IFgah5czmhKE",
        "collapsed": true
      },
      "outputs": [],
      "source": [
        "from langchain_community.tools.tavily_search import TavilySearchResults\n",
        "\n",
        "\n",
        "# Initialize Tavily search tool\n",
        "tavily_search = TavilySearchResults(max_results = 3)\n",
        "\n",
        "# Maintain chat history\n",
        "chat_history = []\n",
        "\n",
        "def stream_graph_updates(user_input):\n",
        "    \"\"\"A placeholder function for processing graph updates.\"\"\"\n",
        "    print(f\"Processing graph updates for: {user_input}\")\n",
        "\n",
        "\n",
        "print(\"Hello there! I am an browsing AI agent. Please give me a prompt, and I will bring you the answer by searching on Google\")\n",
        "print(\"Type 'exit' , 'quit' , 'q' , 'bye' for ending\")\n",
        "\n",
        "\n",
        "def main():\n",
        "  while True:\n",
        "\n",
        "\n",
        "    try:\n",
        "        # Prompt the user for input\n",
        "        print(\"\\n\")\n",
        "        user_input = input(\"User : \").strip()\n",
        "\n",
        "        # Exit condition\n",
        "        if user_input.lower() in [\"quit\", \"exit\", \"q\",\"bye\"]:\n",
        "            print(\"Bye! Have a great day!\")\n",
        "            break\n",
        "\n",
        "        # Handle empty input\n",
        "        if not user_input:\n",
        "            print(\"No prompt found. Please type something.\")\n",
        "            continue\n",
        "\n",
        "        # Add user input to chat history\n",
        "        chat_history.append({\"role\": \"user\", \"content\": user_input})\n",
        "\n",
        "        # Call the placeholder function (replace as needed)\n",
        "        try:\n",
        "            stream_graph_updates(user_input)\n",
        "        except NameError:\n",
        "            # Handle missing function gracefully\n",
        "            print(\"stream_graph_updates is not implemented. Skipping.\")\n",
        "\n",
        "        # Perform a Tavily search if the function is not implemented\n",
        "        search_docs = tavily_search.invoke(user_input)\n",
        "\n",
        "        # Add Tavily response to chat history\n",
        "        chat_history.append({\"role\": \"assistant\", \"content\": str(search_docs)})\n",
        "\n",
        "        # Display results from Tavily search\n",
        "        print(\"Search Results:\")\n",
        "        for i, doc in enumerate(search_docs, start=1):\n",
        "            print(f\"\\nResult {i}:\")\n",
        "            print(f\"Here is the {i} documentaion from web search you can get your answer from here:\")\n",
        "            print(f\"Documentation: {doc.get('content', 'N/A')}\")\n",
        "            print(f\"URL: {doc.get('url', 'N/A')}\")\n",
        "\n",
        "    except Exception as e:\n",
        "        print(f\"An error occurred: {e}\")\n",
        "        break\n",
        "\n",
        "    print(\"\\nChat History:\")\n",
        "    for message in chat_history:\n",
        "      role = message[\"role\"]\n",
        "      content = message[\"content\"]\n",
        "      print(f\"{role.capitalize()}: {content}\")\n",
        "\n",
        "\n",
        "\n",
        "main()"
      ]
    },
    {
      "cell_type": "code",
      "source": [
        "from langchain_community.tools.tavily_search import TavilySearchResults\n",
        "\n",
        "def main_two():\n",
        "# Initialize Tavily search tool\n",
        "  tavily_search = TavilySearchResults(max_results = 3)\n",
        "\n",
        "# Maintain chat history\n",
        "  chat_history = []\n",
        "\n",
        "  print(\"Hello there! I am an browsing AI agent. Please give me a prompt, and I will bring you the answer by searching on Google\")\n",
        "  print(\"Type 'exit' , 'quit' , 'q' , 'bye' for ending\")\n",
        "\n",
        "  while True:\n",
        "\n",
        "    try:\n",
        "        # Prompt the user for input\n",
        "        print(\"\\n\")\n",
        "        user_input = input(\"User : \").strip()\n",
        "\n",
        "        # Exit condition\n",
        "        if user_input.lower() in [\"quit\", \"exit\", \"q\",\"bye\"]:\n",
        "            print(\"Bye! Have a great day!\")\n",
        "            break\n",
        "\n",
        "        # Handle empty input\n",
        "        if not user_input:\n",
        "            print(\"No prompt found. Please type something.\")\n",
        "            continue\n",
        "\n",
        "        # Add user input to chat history\n",
        "        chat_history.append({\"role\": \"user\", \"content\": user_input})\n",
        "\n",
        "        # Perform a Tavily search if the function is not implemented\n",
        "        search_docs = tavily_search.invoke(user_input)\n",
        "\n",
        "        # Add Tavily response to chat history\n",
        "        chat_history.append({\"role\": \"assistant\", \"content\": str(search_docs)})\n",
        "\n",
        "        # Display results from Tavily search\n",
        "        print(\"Search Results:\")\n",
        "        for i, doc in enumerate(search_docs, start=1):\n",
        "            print(f\"\\nResult {i}:\")\n",
        "            print(f\"Here is the {i} documentaion from web search you can get your answer from here:\")\n",
        "            print(f\"Documentation: {doc.get('content', 'N/A')}\")\n",
        "            print(f\"URL: {doc.get('url', 'N/A')}\")\n",
        "\n",
        "    except Exception as e:\n",
        "        print(f\"An error occurred: {e}\")\n",
        "        break\n",
        "\n",
        "    print(\"\\nChat History:\")\n",
        "    for message in chat_history:\n",
        "      role = message[\"role\"]\n",
        "      content = message[\"content\"]\n",
        "      print(f\"{role.capitalize()}: {content}\")\n",
        "\n",
        "\n",
        "\n",
        "main_two()"
      ],
      "metadata": {
        "id": "49TNGMjdZk5g"
      },
      "execution_count": null,
      "outputs": []
    }
  ]
}